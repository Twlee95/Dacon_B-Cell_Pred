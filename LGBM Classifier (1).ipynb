{
 "cells": [
  {
   "cell_type": "markdown",
   "id": "27834d2e",
   "metadata": {},
   "source": [
    "# Load data"
   ]
  },
  {
   "cell_type": "code",
   "execution_count": 10,
   "id": "9423cc5d",
   "metadata": {},
   "outputs": [
    {
     "name": "stdout",
     "output_type": "stream",
     "text": [
      "<class 'pandas.core.frame.DataFrame'>\n",
      "RangeIndex: 190811 entries, 0 to 190810\n",
      "Data columns (total 18 columns):\n",
      " #   Column                  Non-Null Count   Dtype  \n",
      "---  ------                  --------------   -----  \n",
      " 0   id                      190811 non-null  int64  \n",
      " 1   epitope_seq             190811 non-null  object \n",
      " 2   antigen_seq             190811 non-null  object \n",
      " 3   antigen_code            190811 non-null  object \n",
      " 4   start_position          190811 non-null  float64\n",
      " 5   end_position            190811 non-null  float64\n",
      " 6   number_of_tested        39198 non-null   float64\n",
      " 7   number_of_responses     38353 non-null   float64\n",
      " 8   assay_method_technique  190811 non-null  object \n",
      " 9   assay_group             190811 non-null  object \n",
      " 10  disease_type            190811 non-null  object \n",
      " 11  disease_state           180793 non-null  object \n",
      " 12  reference_date          190811 non-null  int64  \n",
      " 13  reference_journal       190811 non-null  object \n",
      " 14  reference_title         190811 non-null  object \n",
      " 15  reference_IRI           190811 non-null  object \n",
      " 16  qualitative_label       190811 non-null  object \n",
      " 17  label                   190811 non-null  int64  \n",
      "dtypes: float64(4), int64(3), object(11)\n",
      "memory usage: 26.2+ MB\n"
     ]
    }
   ],
   "source": [
    "import pandas as pd\n",
    "\n",
    "df_train = pd.read_csv('train.csv')\n",
    "df_test = pd.read_csv('test.csv')\n",
    "df_train.info()"
   ]
  },
  {
   "cell_type": "code",
   "execution_count": 21,
   "id": "dd5e1a7b",
   "metadata": {},
   "outputs": [],
   "source": [
    "# preprocessing\n",
    "INPUT_COLS = [\n",
    "    'epitope_seq',\n",
    "    'antigen_code',\n",
    "    'start_position',\n",
    "    'end_position',\n",
    "    'number_of_tested',\n",
    "    'number_of_responses',\n",
    "    'assay_method_technique',\n",
    "    'assay_group',\n",
    "    'disease_type',\n",
    "    'disease_state',\n",
    "    'reference_title',\n",
    "]\n",
    "\n",
    "OUTPUT_COLS = ['label']\n",
    "\n",
    "def input_preprocessing(df: pd.DataFrame, selected_columns):\n",
    "    df_input = df[selected_columns].fillna(0)\n",
    "    df_input[df_input.select_dtypes(include=[object]).columns] = df_input.select_dtypes(include=[object]).astype('category')\n",
    "    return df_input\n",
    "\n",
    "X = input_preprocessing(df_train, INPUT_COLS)\n",
    "X_test = input_preprocessing(df_test, INPUT_COLS)\n",
    "\n",
    "y = df_train[OUTPUT_COLS]"
   ]
  },
  {
   "cell_type": "code",
   "execution_count": 22,
   "id": "a02c729c",
   "metadata": {},
   "outputs": [
    {
     "name": "stdout",
     "output_type": "stream",
     "text": [
      "length of X_train / x_valid:  162189 / 28622\n",
      "length of y_train / y_valid:  162189 / 28622\n"
     ]
    }
   ],
   "source": [
    "# train_test_split\n",
    "from sklearn.model_selection import train_test_split\n",
    "\n",
    "X_train, X_valid, y_train, y_valid = train_test_split(\n",
    "    X, y, test_size=0.15, random_state=42, stratify=y\n",
    ")\n",
    "print('length of X_train / x_valid: ', len(X_train),'/', len(X_valid))\n",
    "print('length of y_train / y_valid: ', len(y_train),'/', len(y_valid))"
   ]
  },
  {
   "cell_type": "markdown",
   "id": "cef4e33f",
   "metadata": {},
   "source": [
    "## Model train"
   ]
  },
  {
   "cell_type": "code",
   "execution_count": 23,
   "id": "7cb9984f",
   "metadata": {},
   "outputs": [
    {
     "name": "stderr",
     "output_type": "stream",
     "text": [
      "/userHome/hanyong/miniconda3/envs/dacon/lib/python3.7/site-packages/sklearn/preprocessing/_label.py:98: DataConversionWarning: A column-vector y was passed when a 1d array was expected. Please change the shape of y to (n_samples, ), for example using ravel().\n",
      "  y = column_or_1d(y, warn=True)\n",
      "/userHome/hanyong/miniconda3/envs/dacon/lib/python3.7/site-packages/sklearn/preprocessing/_label.py:133: DataConversionWarning: A column-vector y was passed when a 1d array was expected. Please change the shape of y to (n_samples, ), for example using ravel().\n",
      "  y = column_or_1d(y, warn=True)\n",
      "/userHome/hanyong/miniconda3/envs/dacon/lib/python3.7/site-packages/lightgbm/sklearn.py:726: UserWarning: 'early_stopping_rounds' argument is deprecated and will be removed in a future release of LightGBM. Pass 'early_stopping()' callback via 'callbacks' argument instead.\n",
      "  _log_warning(\"'early_stopping_rounds' argument is deprecated and will be removed in a future release of LightGBM. \"\n",
      "/userHome/hanyong/miniconda3/envs/dacon/lib/python3.7/site-packages/lightgbm/sklearn.py:736: UserWarning: 'verbose' argument is deprecated and will be removed in a future release of LightGBM. Pass 'log_evaluation()' callback via 'callbacks' argument instead.\n",
      "  _log_warning(\"'verbose' argument is deprecated and will be removed in a future release of LightGBM. \"\n",
      "/userHome/hanyong/miniconda3/envs/dacon/lib/python3.7/site-packages/lightgbm/basic.py:1780: UserWarning: Overriding the parameters from Reference Dataset.\n",
      "  _log_warning('Overriding the parameters from Reference Dataset.')\n",
      "/userHome/hanyong/miniconda3/envs/dacon/lib/python3.7/site-packages/lightgbm/basic.py:1513: UserWarning: categorical_column in param dict is overridden.\n",
      "  _log_warning(f'{cat_alias} in param dict is overridden.')\n"
     ]
    },
    {
     "data": {
      "text/plain": [
       "LGBMClassifier(n_estimators=600)"
      ]
     },
     "execution_count": 23,
     "metadata": {},
     "output_type": "execute_result"
    }
   ],
   "source": [
    "# model: LGBM Classifier\n",
    "from lightgbm import LGBMClassifier\n",
    "\n",
    "model = LGBMClassifier(n_estimators= 600)\n",
    "\n",
    "# train\n",
    "model.fit(\n",
    "    X_train, y_train, \n",
    "    eval_set=(X_valid, y_valid), \n",
    "    early_stopping_rounds= 100,\n",
    "    eval_metric='logloss',\n",
    "    feature_name='auto', \n",
    "    categorical_feature = 'auto',\n",
    "    verbose=False\n",
    ")"
   ]
  },
  {
   "cell_type": "code",
   "execution_count": 24,
   "id": "f23cfbee",
   "metadata": {},
   "outputs": [
    {
     "name": "stdout",
     "output_type": "stream",
     "text": [
      "macro f1-score: 0.9379979413109258\n",
      "              precision    recall  f1-score   support\n",
      "\n",
      "           0       0.98      0.99      0.99     26094\n",
      "           1       0.94      0.84      0.89      2528\n",
      "\n",
      "    accuracy                           0.98     28622\n",
      "   macro avg       0.96      0.92      0.94     28622\n",
      "weighted avg       0.98      0.98      0.98     28622\n",
      "\n"
     ]
    }
   ],
   "source": [
    "# make predictions\n",
    "from sklearn import metrics\n",
    "\n",
    "y_pred = model.predict(X_valid)\n",
    "\n",
    "# Print the prediction accuracy\n",
    "print('macro f1-score:', metrics.f1_score(y_valid, y_pred, average='macro'))\n",
    "print(metrics.classification_report(y_valid, y_pred))"
   ]
  },
  {
   "cell_type": "code",
   "execution_count": 6,
   "id": "03d06135",
   "metadata": {},
   "outputs": [
    {
     "data": {
      "image/png": "[encoded data removed]",
      "text/plain": [
       "<Figure size 576x432 with 1 Axes>"
      ]
     },
     "metadata": {
      "needs_background": "light"
     },
     "output_type": "display_data"
    }
   ],
   "source": [
    "import matplotlib.pyplot as plt\n",
    "\n",
    "feat_imp = pd.Series(model.feature_importances_, index = X.columns)\n",
    "feat_imp.nlargest(30).plot(kind = 'barh', figsize = (8,6))\n",
    "plt.title('Feature imporance-LightGBM')\n",
    "plt.show()"
   ]
  },
  {
   "cell_type": "markdown",
   "id": "cc666086",
   "metadata": {},
   "source": [
    "## Submission"
   ]
  },
  {
   "cell_type": "code",
   "execution_count": 33,
   "id": "50bef8da",
   "metadata": {},
   "outputs": [
    {
     "name": "stdout",
     "output_type": "stream",
     "text": [
      "Done.\n"
     ]
    }
   ],
   "source": [
    "df_submit = pd.read_csv('sample_submission.csv')\n",
    "y_pred = pd.DataFrame(model.predict(X_test))\n",
    "df_submit['label'] = y_pred\n",
    "df_submit.to_csv('lgbm_submit.csv', index=False)\n",
    "print('Done.')"
   ]
  },
  {
   "cell_type": "code",
   "execution_count": 20,
   "id": "6b400212",
   "metadata": {},
   "outputs": [],
   "source": []
  }
 ],
 "metadata": {
  "kernelspec": {
   "display_name": "Python 3.7.13 ('dacon')",
   "language": "python",
   "name": "python3"
  },
  "language_info": {
   "codemirror_mode": {
    "name": "ipython",
    "version": 3
   },
   "file_extension": ".py",
   "mimetype": "text/x-python",
   "name": "python",
   "nbconvert_exporter": "python",
   "pygments_lexer": "ipython3",
   "version": "3.7.13"
  },
  "vscode": {
   "interpreter": {
    "hash": "9c665ed4afd8b391874ab07aec7461522676e65f2d94e535718696cdc19e3fd7"
   }
  }
 },
 "nbformat": 4,
 "nbformat_minor": 5
}
