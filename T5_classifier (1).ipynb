{
 "cells": [
  {
   "cell_type": "markdown",
   "metadata": {},
   "source": [
    "# Load model & tokenizer"
   ]
  },
  {
   "cell_type": "code",
   "execution_count": 1,
   "metadata": {},
   "outputs": [
    {
     "name": "stdout",
     "output_type": "stream",
     "text": [
      "output_dir: prot_t5_xl_uniref50_finetune\n",
      "CUDA_VISIBLE_DEVICES: 0,1,2,3\n",
      "model: cuda:0\n"
     ]
    }
   ],
   "source": [
    "import os\n",
    "import torch\n",
    "from transformers import T5ForConditionalGeneration, T5Tokenizer\n",
    "\n",
    "# Select visible gpus\n",
    "os.environ['CUDA_VISIBLE_DEVICES'] = '0,1,2,3'\n",
    "os.environ['CUDA_LAUNCH_BLOCKING'] = '1'\n",
    "\n",
    "MODEL_NAME = 'Rostlab/prot_t5_xl_uniref50'\n",
    "DEVICE = 'cuda:0'\n",
    "OUTPUT_DIR = f'{MODEL_NAME.split(\"/\")[1]}_finetune'\n",
    "TRAIN_EPOCHS = 10\n",
    "SEED = 42\n",
    "RESUME_FROM_CHECKPOINT=False\n",
    "CHECKPOINT_STEP = '19082'\n",
    "\n",
    "pretrained_model_name = os.path.join(OUTPUT_DIR, 'checkpoint-' + CHECKPOINT_STEP) \\\n",
    "    if RESUME_FROM_CHECKPOINT \\\n",
    "    else MODEL_NAME\n",
    "\n",
    "model = T5ForConditionalGeneration.from_pretrained(pretrained_model_name).to(DEVICE)\n",
    "\n",
    "model.parallelize()\n",
    "\n",
    "tokenizer = T5Tokenizer.from_pretrained(MODEL_NAME, do_lower_case=False)\n",
    "tokenizer.add_tokens(['0', '1']) # Add tokens for labels\n",
    "\n",
    "model.resize_token_embeddings(len(tokenizer))\n",
    "\n",
    "print('output_dir:', OUTPUT_DIR)\n",
    "print('CUDA_VISIBLE_DEVICES:', os.environ['CUDA_VISIBLE_DEVICES'])\n",
    "print('model:', model.device)"
   ]
  },
  {
   "cell_type": "markdown",
   "metadata": {},
   "source": [
    "# Define dataset"
   ]
  },
  {
   "cell_type": "code",
   "execution_count": 2,
   "metadata": {},
   "outputs": [
    {
     "data": {
      "application/vnd.jupyter.widget-view+json": {
       "model_id": "16bd1cf590f54c9fb128f233b01b2928",
       "version_major": 2,
       "version_minor": 0
      },
      "text/plain": [
       "  0%|          | 0/1 [00:00<?, ?it/s]"
      ]
     },
     "metadata": {},
     "output_type": "display_data"
    },
    {
     "name": "stdout",
     "output_type": "stream",
     "text": [
      "DatasetDict({\n",
      "    train: Dataset({\n",
      "        features: ['id', 'epitope_seq', 'antigen_seq', 'antigen_code', 'start_position', 'end_position', 'number_of_tested', 'number_of_responses', 'assay_method_technique', 'assay_group', 'disease_type', 'disease_state', 'reference_date', 'reference_journal', 'reference_title', 'reference_IRI', 'qualitative_label', 'label'],\n",
      "        num_rows: 171729\n",
      "    })\n",
      "    test: Dataset({\n",
      "        features: ['id', 'epitope_seq', 'antigen_seq', 'antigen_code', 'start_position', 'end_position', 'number_of_tested', 'number_of_responses', 'assay_method_technique', 'assay_group', 'disease_type', 'disease_state', 'reference_date', 'reference_journal', 'reference_title', 'reference_IRI', 'qualitative_label', 'label'],\n",
      "        num_rows: 19082\n",
      "    })\n",
      "})\n",
      "Dataset({\n",
      "    features: ['id', 'epitope_seq', 'antigen_seq', 'antigen_code', 'start_position', 'end_position', 'number_of_tested', 'number_of_responses', 'assay_method_technique', 'assay_group', 'disease_type', 'disease_state', 'reference_date', 'reference_journal', 'reference_title', 'reference_IRI'],\n",
      "    num_rows: 120944\n",
      "})\n"
     ]
    }
   ],
   "source": [
    "import datasets\n",
    "from datasets import load_dataset\n",
    "datasets.logging.set_verbosity_error()\n",
    "\n",
    "raw_train_dataset = load_dataset(\n",
    "    'csv', data_files='train.csv'\n",
    ")['train'].shuffle(seed=SEED).train_test_split(test_size=0.1)\n",
    "\n",
    "raw_test_dataset = load_dataset(\n",
    "    'csv', data_files={'test': 'test.csv'},\n",
    "    split='test',\n",
    ")\n",
    "\n",
    "print(raw_train_dataset)\n",
    "print(raw_test_dataset)"
   ]
  },
  {
   "cell_type": "markdown",
   "metadata": {},
   "source": [
    "# Dataset Preprocessing"
   ]
  },
  {
   "cell_type": "code",
   "execution_count": 3,
   "metadata": {},
   "outputs": [
    {
     "name": "stdout",
     "output_type": "stream",
     "text": [
      "Dataset({\n",
      "    features: ['labels', 'input_ids'],\n",
      "    num_rows: 171729\n",
      "})\n",
      "Dataset({\n",
      "    features: ['labels', 'input_ids'],\n",
      "    num_rows: 19082\n",
      "})\n",
      "Dataset({\n",
      "    features: ['input_ids'],\n",
      "    num_rows: 120944\n",
      "})\n"
     ]
    }
   ],
   "source": [
    "import datasets\n",
    "datasets.logging.disable_progress_bar()\n",
    "\n",
    "def dataset_preproc(dataset: datasets.Dataset, num_proc=4):\n",
    "    if 'label' in dataset.column_names:\n",
    "        dataset = dataset.map(\n",
    "            lambda x: tokenizer(str(x['label'])),\n",
    "            num_proc=num_proc,\n",
    "        )\n",
    "        dataset = dataset.rename_column('input_ids', 'labels')\n",
    "        # dataset = dataset.rename_column('attention_mask', 'decoder_attention_mask')\n",
    "        # dataset = dataset.add_column('decoder_input_ids', column=dataset['labels'])\n",
    "    dataset = dataset.map(\n",
    "        lambda x: tokenizer(' '.join(x['epitope_seq'])),\n",
    "        num_proc=num_proc,\n",
    "    )\n",
    "    dataset = dataset.remove_columns(list(set(dataset.column_names) - set(['input_ids', 'labels'])))\n",
    "    return dataset\n",
    "\n",
    "train_dataset = dataset_preproc(raw_train_dataset['train'], num_proc=16)\n",
    "print(train_dataset)\n",
    "\n",
    "valid_dataset = dataset_preproc(raw_train_dataset['test'], num_proc=16)\n",
    "print(valid_dataset)\n",
    "\n",
    "test_dataset = dataset_preproc(raw_test_dataset, num_proc=16)\n",
    "print(test_dataset)"
   ]
  },
  {
   "cell_type": "code",
   "execution_count": 4,
   "metadata": {},
   "outputs": [
    {
     "data": {
      "text/plain": [
       "['0 </s>', 'V S G K E E M E R S S E E E G</s>']"
      ]
     },
     "execution_count": 4,
     "metadata": {},
     "output_type": "execute_result"
    }
   ],
   "source": [
    "[tokenizer.decode(train_dataset[0][k]) for k in ['labels', 'input_ids']]"
   ]
  },
  {
   "cell_type": "markdown",
   "metadata": {},
   "source": [
    "# Define trainer & Train"
   ]
  },
  {
   "cell_type": "code",
   "execution_count": 5,
   "metadata": {},
   "outputs": [
    {
     "name": "stdout",
     "output_type": "stream",
     "text": [
      "output_dir: prot_t5_xl_uniref50_finetune\n",
      "CUDA_VISIBLE_DEVICES: 0,1,2,3\n",
      "model: cuda:0\n",
      "trainer: cuda:0\n"
     ]
    },
    {
     "name": "stderr",
     "output_type": "stream",
     "text": [
      "/userHome/hanyong/miniconda3/envs/dacon/lib/python3.8/site-packages/accelerate/memory_utils.py:23: FutureWarning: memory_utils has been reorganized to utils.memory. Import `find_executable_batchsize` from the main `__init__`: `from accelerate import find_executable_batch_size` to avoid this warning.\n",
      "  warnings.warn(\n",
      "/userHome/hanyong/miniconda3/envs/dacon/lib/python3.8/site-packages/transformers/optimization.py:306: FutureWarning: This implementation of AdamW is deprecated and will be removed in a future version. Use the PyTorch implementation torch.optim.AdamW instead, or set `no_deprecation_warning=True` to disable this warning\n",
      "  warnings.warn(\n"
     ]
    },
    {
     "data": {
      "text/html": [
       "\n",
       "    <div>\n",
       "      \n",
       "      <progress value='11' max='11' style='width:300px; height:20px; vertical-align: middle;'></progress>\n",
       "      [11/11 02:47, Epoch 1/1]\n",
       "    </div>\n",
       "    <table border=\"1\" class=\"dataframe\">\n",
       "  <thead>\n",
       " <tr style=\"text-align: left;\">\n",
       "      <th>Epoch</th>\n",
       "      <th>Training Loss</th>\n",
       "      <th>Validation Loss</th>\n",
       "      <th>F1-score</th>\n",
       "    </tr>\n",
       "  </thead>\n",
       "  <tbody>\n",
       "    <tr>\n",
       "      <td>1</td>\n",
       "      <td>4.504100</td>\n",
       "      <td>0.304958</td>\n",
       "      <td>0.428571</td>\n",
       "    </tr>\n",
       "  </tbody>\n",
       "</table><p>"
      ],
      "text/plain": [
       "<IPython.core.display.HTML object>"
      ]
     },
     "metadata": {},
     "output_type": "display_data"
    },
    {
     "data": {
      "text/plain": [
       "TrainOutput(global_step=11, training_loss=4.504134438254616, metrics={'train_runtime': 169.3498, 'train_samples_per_second': 1.016, 'train_steps_per_second': 0.065, 'total_flos': 53442499215360.0, 'train_loss': 4.504134438254616, 'epoch': 1.0})"
      ]
     },
     "execution_count": 5,
     "metadata": {},
     "output_type": "execute_result"
    }
   ],
   "source": [
    "import os\n",
    "import torch\n",
    "import gc\n",
    "\n",
    "from transformers import Seq2SeqTrainer, Seq2SeqTrainingArguments\n",
    "from transformers import DataCollatorForSeq2Seq\n",
    "from sklearn.metrics import f1_score\n",
    "\n",
    "## Wipe memory\n",
    "gc.collect()\n",
    "torch.cuda.empty_cache()\n",
    "\n",
    "training_args = Seq2SeqTrainingArguments(\n",
    "    output_dir=OUTPUT_DIR,\n",
    "    num_train_epochs=1,\n",
    "    per_device_train_batch_size=16,\n",
    "    per_device_eval_batch_size=16,\n",
    "    evaluation_strategy='epoch',\n",
    "    report_to=None,\n",
    "    logging_strategy='epoch',\n",
    "    log_level='warning',\n",
    "    save_strategy='epoch',\n",
    "    save_total_limit=2,\n",
    "    metric_for_best_model='f1-score',\n",
    "    load_best_model_at_end=True,\n",
    "    # push_to_hub=True,\n",
    "    hub_private_repo=True,\n",
    "    auto_find_batch_size=True,\n",
    ")\n",
    "\n",
    "data_collator = DataCollatorForSeq2Seq(\n",
    "    tokenizer,\n",
    "    model=model,\n",
    "    label_pad_token_id=tokenizer.pad_token_id\n",
    ")\n",
    "\n",
    "print('output_dir:', OUTPUT_DIR)\n",
    "print('CUDA_VISIBLE_DEVICES:', os.environ['CUDA_VISIBLE_DEVICES'])\n",
    "print('model:', model.device)\n",
    "print('trainer:', training_args.device)\n",
    "\n",
    "\n",
    "def f1_score_metrics(eval_pred):\n",
    "    y_pred = eval_pred.predictions[0].argmax(-1)[:, 0]\n",
    "    y_true = eval_pred.label_ids[:, 0]\n",
    "    score = f1_score(y_true, y_pred, average='macro')\n",
    "    return {'f1-score': score}\n",
    "\n",
    "trainer = Seq2SeqTrainer(\n",
    "    model,\n",
    "    training_args,\n",
    "    data_collator=data_collator,\n",
    "    train_dataset=train_dataset,\n",
    "    eval_dataset=valid_dataset,\n",
    "    compute_metrics=f1_score_metrics,\n",
    ")\n",
    "\n",
    "train_output = trainer.train(resume_from_checkpoint=RESUME_FROM_CHECKPOINT)"
   ]
  },
  {
   "cell_type": "code",
   "execution_count": null,
   "metadata": {},
   "outputs": [],
   "source": [
    "trainer.push_to_hub()"
   ]
  },
  {
   "cell_type": "markdown",
   "metadata": {},
   "source": [
    "# Model test"
   ]
  },
  {
   "cell_type": "code",
   "execution_count": null,
   "metadata": {},
   "outputs": [],
   "source": [
    "test_output = trainer.predict(test_dataset)"
   ]
  },
  {
   "cell_type": "code",
   "execution_count": null,
   "metadata": {},
   "outputs": [],
   "source": []
  }
 ],
 "metadata": {
  "kernelspec": {
   "display_name": "Python 3.8.0 ('dacon')",
   "language": "python",
   "name": "python3"
  },
  "language_info": {
   "codemirror_mode": {
    "name": "ipython",
    "version": 3
   },
   "file_extension": ".py",
   "mimetype": "text/x-python",
   "name": "python",
   "nbconvert_exporter": "python",
   "pygments_lexer": "ipython3",
   "version": "3.8.0"
  },
  "orig_nbformat": 4,
  "vscode": {
   "interpreter": {
    "hash": "9c665ed4afd8b391874ab07aec7461522676e65f2d94e535718696cdc19e3fd7"
   }
  }
 },
 "nbformat": 4,
 "nbformat_minor": 2
}
